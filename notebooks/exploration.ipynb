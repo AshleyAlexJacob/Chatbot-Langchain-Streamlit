{
 "cells": [
  {
   "cell_type": "code",
   "execution_count": 1,
   "id": "39fcb2a3",
   "metadata": {},
   "outputs": [],
   "source": [
    "from langchain_google_genai import ChatGoogleGenerativeAI"
   ]
  },
  {
   "cell_type": "code",
   "execution_count": 2,
   "id": "1237bdcb",
   "metadata": {},
   "outputs": [],
   "source": [
    "llm = ChatGoogleGenerativeAI(\n",
    "    model = \"gemini-2.5-flash\",\n",
    "    temperature = 2,\n",
    "    # max_output_tokens = 1024,\n",
    "    timeout=None,\n",
    "    max_retries=2,\n",
    ")"
   ]
  },
  {
   "cell_type": "code",
   "execution_count": 3,
   "id": "6a579f42",
   "metadata": {},
   "outputs": [],
   "source": [
    "messages = [\n",
    "    {\n",
    "        \"role\": \"user\",\n",
    "        \"content\": \"Tell me a story about The Race between Rabbit and Tortoise.\",\n",
    "    }\n",
    "]"
   ]
  },
  {
   "cell_type": "code",
   "execution_count": 5,
   "id": "498eca0d",
   "metadata": {},
   "outputs": [
    {
     "data": {
      "text/plain": [
       "AIMessage(content='The sun warmed the lush meadow, and a gentle breeze rustled through the tall grasses. All the animals of the forest had gathered, a buzzing crowd of curious eyes and chattering voices. Today was the day of the much-anticipated race!\\n\\nAt the starting line stood two unlikely competitors.\\n\\nOne was **Rabbit**, sleek, fast, and brimming with boundless energy. His name was Rory, and he was known for his lightning speed and, it must be admitted, his boundless boastfulness. He bounced on his hind legs, twitching his nose, unable to keep still.\\n\\n\"Hah! This race is practically over before it begins!\" Rory chuckled, casting a sideways glance at his opponent. \"Anyone want to put their acorns on old slowpoke here?\"\\n\\nHis opponent was **Tortoise**, a sturdy, wise old soul named Theodore. Theodore wore his years like the patterns on his shell – with quiet dignity. He moved slowly, deliberately, but with a serene steadiness that belied his true determination. He simply nodded, a calm glint in his ancient eyes. \"We shall see, Rory. We shall see.\"\\n\\nThe Fox, acting as the referee, held up a leaf. \"On your mark… get set… GO!\"\\n\\nRory the Rabbit exploded from the line, a blur of brown fur and pumping legs. Dust billowed behind him as he vanished almost instantly around the first bend of the winding track, which snaked through the meadow, past a whispering willow tree, and ended at the ancient Whispering Rock on the far side of the forest.\\n\\nTheodore the Tortoise, meanwhile, began his journey with his first, slow, measured step. And then another. And another. His pace was unwavering, each footfall a tiny testament to perseverance.\\n\\nRory raced on, leaving Theodore far, far behind. He flew past the field of buttercups, zoomed through the shade of the grand oak. He chuckled to himself. \"Theodore won\\'t even reach the willow tree before I\\'m halfway there!\"\\n\\nAs the path led through a particularly inviting patch of clover, bathed in warm sunlight, Rory\\'s energy seemed to wane, replaced by a wave of complacent comfort. \"Goodness,\" he thought, \"I\\'ve already covered so much ground. Theodore is probably just starting to get warmed up. I have *plenty* of time.\"\\n\\nHe stretched out on the soft moss, feeling the sun\\'s gentle heat on his fur. The sweet scent of clover filled his nostrils. \"A little nap won\\'t hurt,\" he mumbled, his eyelids growing heavy. \"Just a quick power-doze.\"\\n\\nAnd within moments, Rory the Rabbit was fast asleep, dreaming of victory garlands and delicious carrots.\\n\\nMeanwhile, Theodore the Tortoise continued his steady, unyielding march. He passed the buttercups, step by slow, deliberate step. He passed the grand oak, never once breaking his rhythm. He saw the patch of sun-drenched clover where Rory lay snoozing, and a small, knowing smile touched his lips.\\n\\nHe didn\\'t speed up. He didn\\'t slow down. He simply continued. One foot in front of the other. The finish line, the ancient Whispering Rock, seemed impossibly far away at times, but Theodore never lifted his gaze from the path ahead. His legs were tired, his shell heavy, but his will was unwavering.\\n\\nHours passed. The sun began its slow descent, casting long shadows across the meadow.\\n\\nSuddenly, Rory the Rabbit awoke with a jolt! His eyes snapped open. The light had changed! The air was cooler! Panic seized him. \"Oh, no! How long have I been asleep?!\"\\n\\nHe leaped to his feet and burst into a desperate sprint, his earlier confident dash now a frantic blur. He ran faster than he had ever run before, weaving through the trees, pushing his body to its limit.\\n\\nHe burst out of the woods, his chest heaving, his eyes fixed on the distant Whispering Rock. And then his jaw dropped.\\n\\nJust a few yards from the finish line, steadily plodding, one foot in front of the other, was Theodore the Tortoise.\\n\\nThe crowd of animals, who had been quietly watching Theodore\\'s persistent progress, erupted in cheers as Rory raced into view. They pointed and shouted.\\n\\nRory dug deep, finding a burst of forgotten speed, but it was too late. With a final, painstaking, but determined step, Theodore the Tortoise crossed the invisible finish line at the Whispering Rock.\\n\\nA triumphant roar went up from the forest folk! Theodore had won!\\n\\nRory skidded to a halt, panting, just a few feet away, watching Theodore being surrounded by cheering admirers. Theodore simply bowed his head humbly.\\n\\nRory slowly walked up to him, his ears drooped in shame, but also in dawning respect. \"Theodore,\" he said, his voice quiet, \"I… I apologize. I was foolish. I underestimated you.\"\\n\\nTheodore smiled, his ancient eyes kind. \"Speed is a gift, Rory. But patience and persistence... those are virtues that often get you to where you need to be, even if it\\'s slowly.\"\\n\\nAnd from that day on, Rory the Rabbit learned a valuable lesson: that a fast start doesn\\'t guarantee victory, and that even the slowest, steadiest journey can win the race, as long as you keep putting one foot in front of the other, and never, ever give up.', additional_kwargs={}, response_metadata={'prompt_feedback': {'block_reason': 0, 'safety_ratings': []}, 'finish_reason': 'STOP', 'model_name': 'gemini-2.5-flash', 'safety_ratings': []}, id='run--3066cb94-c6be-4859-b009-ae74354e52c4-0', usage_metadata={'input_tokens': 14, 'output_tokens': 2365, 'total_tokens': 2379, 'input_token_details': {'cache_read': 0}, 'output_token_details': {'reasoning': 1226}})"
      ]
     },
     "execution_count": 5,
     "metadata": {},
     "output_type": "execute_result"
    }
   ],
   "source": [
    "llm.invoke(messages)"
   ]
  },
  {
   "cell_type": "code",
   "execution_count": 4,
   "id": "ba319bb0",
   "metadata": {},
   "outputs": [
    {
     "name": "stdout",
     "output_type": "stream",
     "text": [
      "The air buzzed with excitement in Whispering Woods. Today was the day of the Annual Grand Race, and all the forest creatures had gathered at the starting line, tails wagging and feathers ruffled in anticipation.\n",
      "\n",
      "At the center of the hub/nbub stood two very different contestants: Rabbit, sleek and confident, twitching his nose and stretching his powerful legs. He was known as the fastest runner in all the woods, and his recent boasts of an effortless victory had echoed through the trees/n for weeks. Beside him, quiet and composed, was Tortoise, his sturdy shell gleaming, his wise eyes blinking slowly. Many whispered that he shouldn't even bother, but Tortoise just offered a gentle smile.\n",
      "\n",
      "\"On your/n marks!\" chirped Referee Robin, perched high on a branch, flag held firm.\n",
      "Rabbit crouched, muscles coiled. Tortoise, unhurried, braced his short legs.\n",
      "\"Get set... GO!\"\n",
      "\n",
      "With a burst/n of energy that seemed to blur the air, Rabbit shot forward like an arrow. Dust kicked up in his wake as he rocketed past the cheering onlookers. \"Catch me if you can, slowpoke!\" he hollered back, a distant/n taunt carried on the wind.\n",
      "\n",
      "Tortoise, meanwhile, began his race with the same deliberate pace he lived his life. Each step was measured, sure, and unwavering. The other animals watched him with a mixture of respect and pity. \"/nHe'll never make it!\" chirped a squirrel. \"Poor fellow, so much ground to cover,\" sighed a doe.\n",
      "\n",
      "Rabbit ran, and ran, and ran. He cleared the winding paths, leapt over fallen logs, and zipped/n through patches of sunlight and shadow. Soon, the starting line, the crowd, and even the hills ahead seemed like tiny miniatures behind him. He looked back, but Tortoise was nowhere to be seen. \"Ha!\" he chuckled to himself. \"This/n is hardly a challenge!\"\n",
      "\n",
      "The sun was high now, casting long shadows. Feeling tired, and utterly convinced he had hours to spare, Rabbit spotted a cool, inviting patch of clover beneath a sprawling oak. \"I'll just rest my/n eyes for a moment,\" he mused. \"Even if he ran non-stop, old Tortoise would barely be halfway. A little nap won't hurt.\"\n",
      "\n",
      "He curled up, and within minutes, the soft chirping of cr/nickets and the gentle breeze lulled him into a deep, peaceful sleep.\n",
      "\n",
      "Meanwhile, Tortoise continued his steady journey. The sun beat down, and his old joints ached, but he never paused. Over a tricky root,/n under a low-hanging branch, around a thorny bush – he simply kept moving, one slow, deliberate step after another. He knew he wasn't fast, but he was *consistent*. He didn't look back; he only/n looked forward, at the path ahead, focusing on reaching the finish line, no matter how long it took.\n",
      "\n",
      "Hours later, as the golden afternoon light began to turn to evening, Rabbit was startled awake by a jolt. He rubbed/n the sleep from his eyes, stretched, and looked around. The sun was lower than he expected. \"Time to finish this,\" he yawned, expecting to simply dash the last hundred yards and cross the finish line with an effortless flourish.\n",
      "\n",
      "But as/n he looked ahead, his ears twitched. Was that... a shape? Near the finish line? A dark, round shape, inching forward. Panic seized his heart. \"No!\" he gasped. It couldn't be!\n",
      "\n",
      "/nHe exploded into a desperate sprint, his powerful legs working harder than ever before. He bounded through the woods, leaves crunching underfoot, the wind whistling in his ears. He was so fast, impossibly fast, faster than he'/nd ever run. The finish line grew larger, the crowd louder. And that shape... it was unmistakably Tortoise!\n",
      "\n",
      "Just a few yards away, Tortoise, with unwavering determination, pulled himself forward, step by careful step./n The crowd roared. Fox, the official announcer, stood at the finish line, megaphone ready.\n",
      "\n",
      "Rabbit was gaining! He closed the distance rapidly, his chest burning, his lungs aching. But it was too late. With a final, tiny/n push, Tortoise extended his neck, took one last, slow, deliberate step, and with a soft *thud*, his front leg crossed the white ribbon.\n",
      "\n",
      "The roar of the crowd was deafening. Cheers erupted, hats were thrown/n in the air.\n",
      "Rabbit skidded to a halt just inches past the finish line, his breath coming in ragged gasps. He stood there, stunned, watching the small, humble figure of Tortoise.\n",
      "\n",
      "Tortoise blinked, slowly/n, a faint, contented smile on his face. He hadn't seen Rabbit dash up at the last second; he had simply focused on the finish. He had won.\n",
      "\n",
      "Rabbit, chagrined and breathless, finally walked over to Tortoise/n. \"I... I don't understand,\" he whispered.\n",
      "Tortoise looked up at him, his wise eyes twinkling. \"You were faster, Rabbit,\" he said softly, \"much faster. But while you rested, I simply/n kept moving.\"\n",
      "\n",
      "And so, the greatest race in Whispering Woods taught a lesson that echoed through the trees for generations: Talent is magnificent, but consistent effort and unwavering perseverance, even in the slowest of paces, will ultimately win the race/n./n"
     ]
    }
   ],
   "source": [
    "for chunk in llm.stream(messages):\n",
    "    print(chunk.content, end=\"/n\")\n",
    "  # This will send the messages to the LLM and get a response\n"
   ]
  },
  {
   "cell_type": "code",
   "execution_count": 47,
   "id": "8b224e6a",
   "metadata": {},
   "outputs": [
    {
     "data": {
      "text/plain": [
       "AIMessage(content='مجھے پروگرامنگ بہت پسند ہے۔', additional_kwargs={}, response_metadata={'prompt_feedback': {'block_reason': 0, 'safety_ratings': []}, 'finish_reason': 'STOP', 'model_name': 'gemini-2.5-flash', 'safety_ratings': []}, id='run--00459c0b-3324-413d-b92c-08ceb675fbbc-0', usage_metadata={'input_tokens': 30, 'output_tokens': 555, 'total_tokens': 585, 'input_token_details': {'cache_read': 0}, 'output_token_details': {'reasoning': 549}})"
      ]
     },
     "execution_count": 47,
     "metadata": {},
     "output_type": "execute_result"
    }
   ],
   "source": [
    "from langchain_core.prompts import ChatPromptTemplate\n",
    "\n",
    "prompt = ChatPromptTemplate.from_messages(\n",
    "    [\n",
    "        (\n",
    "            \"system\",\n",
    "            \"You are a helpful assistant that translates English to Urdu. The output should be the desired translated text i dont need other information.\",\n",
    "        ),\n",
    "        (\"human\", \"{input}\"),\n",
    "    ]\n",
    ")\n",
    "\n",
    "chain = prompt | llm\n",
    "chain.invoke(\n",
    "    {\n",
    "        \"input\": \"I love programming.\",\n",
    "    }\n",
    ")"
   ]
  },
  {
   "cell_type": "code",
   "execution_count": 48,
   "id": "ac3b8b92",
   "metadata": {},
   "outputs": [
    {
     "data": {
      "text/plain": [
       "AIMessage(content='پھول سرخ ہیں۔', additional_kwargs={}, response_metadata={'prompt_feedback': {'block_reason': 0, 'safety_ratings': []}, 'finish_reason': 'STOP', 'model_name': 'gemini-2.5-flash', 'safety_ratings': []}, id='run--d55058a7-56b7-419c-b479-46c510db041c-0', usage_metadata={'input_tokens': 30, 'output_tokens': 102, 'total_tokens': 132, 'input_token_details': {'cache_read': 0}, 'output_token_details': {'reasoning': 97}})"
      ]
     },
     "execution_count": 48,
     "metadata": {},
     "output_type": "execute_result"
    }
   ],
   "source": [
    "chain.invoke(\n",
    "    {\n",
    "        \"input\": \"Flowers are Red.\",\n",
    "    }\n",
    ")"
   ]
  },
  {
   "cell_type": "code",
   "execution_count": null,
   "id": "8401d083",
   "metadata": {},
   "outputs": [],
   "source": []
  }
 ],
 "metadata": {
  "kernelspec": {
   "display_name": "Chatbot-Langchain-Streamlit",
   "language": "python",
   "name": "python3"
  },
  "language_info": {
   "codemirror_mode": {
    "name": "ipython",
    "version": 3
   },
   "file_extension": ".py",
   "mimetype": "text/x-python",
   "name": "python",
   "nbconvert_exporter": "python",
   "pygments_lexer": "ipython3",
   "version": "3.12.10"
  }
 },
 "nbformat": 4,
 "nbformat_minor": 5
}
